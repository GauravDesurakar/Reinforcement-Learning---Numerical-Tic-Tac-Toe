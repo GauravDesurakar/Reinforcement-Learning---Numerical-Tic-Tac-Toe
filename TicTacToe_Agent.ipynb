{
 "cells": [
  {
   "cell_type": "markdown",
   "metadata": {
    "colab_type": "text",
    "id": "rznSDgbvGggG"
   },
   "source": [
    "## Tic-Tac-Toe Agent\n",
    "​\n",
    "In this notebook, you will learn to build an RL agent (using Q-learning) that learns to play Numerical Tic-Tac-Toe with odd numbers. The environment is playing randomly with the agent, i.e. its strategy is to put an even number randomly in an empty cell. The following is the layout of the notebook:\n",
    "        - Defining epsilon-greedy strategy\n",
    "        - Tracking state-action pairs for convergence\n",
    "        - Define hyperparameters for the Q-learning algorithm\n",
    "        - Generating episode and applying Q-update equation\n",
    "        - Checking convergence in Q-values"
   ]
  },
  {
   "cell_type": "markdown",
   "metadata": {
    "colab_type": "text",
    "id": "8eDb8PxBGggH"
   },
   "source": [
    "#### Importing libraries\n",
    "Write the code to import Tic-Tac-Toe class from the environment file"
   ]
  },
  {
   "cell_type": "code",
   "execution_count": 1,
   "metadata": {
    "colab": {},
    "colab_type": "code",
    "id": "6SFNYceFGggJ"
   },
   "outputs": [],
   "source": [
    "from TCGame_Env import TicTacToe\n",
    "import collections\n",
    "import numpy as np\n",
    "import random\n",
    "import pickle\n",
    "import time\n",
    "from matplotlib import pyplot as plt"
   ]
  },
  {
   "cell_type": "code",
   "execution_count": 2,
   "metadata": {
    "colab": {},
    "colab_type": "code",
    "id": "wYLQyopEG8nz"
   },
   "outputs": [],
   "source": [
    "# Function to convert state array into a string to store it as keys in the dictionary\n",
    "# states in Q-dictionary will be of form: x-4-5-3-8-x-x-x-x\n",
    "#   x | 4 | 5\n",
    "#   ----------\n",
    "#   3 | 8 | x\n",
    "#   ----------\n",
    "#   x | x | x\n",
    "\n",
    "def Q_state(state):\n",
    "\n",
    "    return ('-'.join(str(e) for e in state)).replace('nan','x')"
   ]
  },
  {
   "cell_type": "code",
   "execution_count": 3,
   "metadata": {
    "colab": {},
    "colab_type": "code",
    "id": "ZebMOoiVHBBr"
   },
   "outputs": [],
   "source": [
    "# Defining a function which will return valid (all possible actions) actions corresponding to a state\n",
    "# Important to avoid errors during deployment.\n",
    "env=TicTacToe()\n",
    "\n",
    "def valid_actions(state):\n",
    "\n",
    "    valid_Actions = []\n",
    "    \n",
    "    valid_Actions = [i for i in env.action_space(state)[0]] ###### -------please call your environment as env\n",
    "    return valid_Actions"
   ]
  },
  {
   "cell_type": "code",
   "execution_count": 4,
   "metadata": {
    "colab": {},
    "colab_type": "code",
    "id": "IRciPUkYHDWf"
   },
   "outputs": [],
   "source": [
    "# Defining a function which will add new Q-values to the Q-dictionary. \n",
    "def add_to_dict(state):\n",
    "    state1 = Q_state(state)\n",
    "    \n",
    "    valid_act = valid_actions(state)\n",
    "    if state1 not in Q_dict.keys():\n",
    "        for action in valid_act:\n",
    "            Q_dict[state1][action]=0"
   ]
  },
  {
   "cell_type": "markdown",
   "metadata": {
    "colab_type": "text",
    "id": "fNNi_EfHGggM"
   },
   "source": [
    "#### Epsilon-greedy strategy - Write your code here\n",
    "\n",
    "(you can build your epsilon-decay function similar to the one given at the end of the notebook)"
   ]
  },
  {
   "cell_type": "code",
   "execution_count": 5,
   "metadata": {
    "colab": {},
    "colab_type": "code",
    "id": "m0lMfqiJGggN"
   },
   "outputs": [],
   "source": [
    "# Defining epsilon-greedy policy. You can choose any function epsilon-decay strategy\n",
    "\n",
    "max_epsilon = 1.0\n",
    "min_epsilon = 0.001\n",
    "#time1 = np.arange(0,5000000)\n",
    "epsilon = []\n",
    "for i in range(0,5000000):\n",
    "    epsilon.append(min_epsilon + (max_epsilon - min_epsilon) * np.exp(-0.000001*i))\n",
    "\n",
    "def epsilon_greedy(state, time1):\n",
    "    \n",
    "    z = np.random.random()\n",
    "    \n",
    "    eps = epsilon[time1]\n",
    "    if z > eps:\n",
    "        action = max(Q_dict[Q_state(state)],key=Q_dict[Q_state(state)].get)   #Exploitation: this gets the action corresponding to max q-value of current state\n",
    "    else:\n",
    "        actions = valid_actions(state)    #randomly choosing and action\n",
    "        action = actions[np.random.choice(np.arange(0,len(actions)))]    #Exploration: randomly choosing and action\n",
    "    \n",
    "    return action"
   ]
  },
  {
   "cell_type": "markdown",
   "metadata": {
    "colab_type": "text",
    "id": "H2kyQHOMGggR"
   },
   "source": [
    "#### Tracking the state-action pairs for checking convergence - write your code here"
   ]
  },
  {
   "cell_type": "code",
   "execution_count": 6,
   "metadata": {
    "colab": {},
    "colab_type": "code",
    "id": "qcxZ29vdGggS"
   },
   "outputs": [],
   "source": [
    "# Initialise Q_dictionary as 'Q_dict' and States_tracked as 'States_track' (for convergence)\n",
    "Q_dict = collections.defaultdict(dict)\n",
    "States_track = collections.defaultdict(dict)"
   ]
  },
  {
   "cell_type": "code",
   "execution_count": 7,
   "metadata": {
    "colab": {},
    "colab_type": "code",
    "id": "vs73iv8fHOxV"
   },
   "outputs": [],
   "source": [
    "# Initialise states to be tracked\n",
    "def initialise_tracking_states():\n",
    "    sample_q_values = [('6-7-8-x-x-2-9-x-1', (7,5)),\n",
    "                       ('9-1-4-5-8-x-x-x-6', (7,3)),\n",
    "                       ('6-3-2-7-x-8-x-x-x', (8,5))                              \n",
    "                     ]    #select any 4 Q-values\n",
    "    for q_values in sample_q_values:\n",
    "        state = q_values[0]\n",
    "        action = q_values[1]\n",
    "        #this is an array which will have appended values of that state-action pair for every 2000th episode         \n",
    "        States_track[state][action] = []    \n"
   ]
  },
  {
   "cell_type": "code",
   "execution_count": 8,
   "metadata": {
    "colab": {},
    "colab_type": "code",
    "id": "dAbwJDMVHpwl"
   },
   "outputs": [],
   "source": [
    "#Defining a function to save the Q-dictionary as a pickle file\n",
    "\n",
    "def save_obj(obj, name ):\n",
    "    with open(name + '.pkl', 'wb') as f:\n",
    "        pickle.dump(obj, f, pickle.HIGHEST_PROTOCOL)"
   ]
  },
  {
   "cell_type": "code",
   "execution_count": 9,
   "metadata": {
    "colab": {},
    "colab_type": "code",
    "id": "6Pyj7nMVHsBi"
   },
   "outputs": [],
   "source": [
    "def save_tracking_states():\n",
    "    for state in States_track.keys():\n",
    "        for action in States_track[state].keys():\n",
    "            if state in Q_dict and action in Q_dict[state]:\n",
    "                States_track[state][action].append(Q_dict[state][action])"
   ]
  },
  {
   "cell_type": "code",
   "execution_count": 10,
   "metadata": {
    "colab": {},
    "colab_type": "code",
    "id": "B_8xSluUHvew"
   },
   "outputs": [],
   "source": [
    "initialise_tracking_states()"
   ]
  },
  {
   "cell_type": "markdown",
   "metadata": {
    "colab_type": "text",
    "id": "-iPt--E9GggV"
   },
   "source": [
    "#### Define hyperparameters  ---write your code here"
   ]
  },
  {
   "cell_type": "code",
   "execution_count": 12,
   "metadata": {
    "colab": {},
    "colab_type": "code",
    "id": "G0_f5czFGggW"
   },
   "outputs": [],
   "source": [
    "EPISODES = 5000000\n",
    "STEPS = 10               \n",
    "LR = 0.01                   #learning rate\n",
    "GAMMA = 0.8\n",
    "\n",
    "threshold = 2000            #every these many episodes, the 4 Q-values will be stored/appended (convergence graphs)\n",
    "policy_threshold = 30000    #every these many episodes, the Q-dict will be updated"
   ]
  },
  {
   "cell_type": "markdown",
   "metadata": {
    "colab_type": "text",
    "id": "Md6twJ7wGggh"
   },
   "source": [
    "### Q-update loop ---write your code here"
   ]
  },
  {
   "cell_type": "code",
   "execution_count": 13,
   "metadata": {
    "colab": {},
    "colab_type": "code",
    "id": "ldCgQuDNGggj"
   },
   "outputs": [],
   "source": [
    "start_time = time.time()\n",
    "\n",
    "for episode in range(0, EPISODES):\n",
    "    ##### Start writing your code from the next line    \n",
    "    env = TicTacToe() \n",
    "    terminal_flag=False\n",
    "    initial_state = env.state    #for the purpose of tracking reward\n",
    "    \n",
    "    curr_state = env.state\n",
    "    add_to_dict(curr_state)\n",
    "    time_step = 0\n",
    "    reward = None\n",
    "      \n",
    "    total_reward = 0\n",
    "    \n",
    "    while terminal_flag == False:    #the episode will run only for a few steps and not infinitely\n",
    "        \n",
    "        #curr_action is a_tue and is a(t-1)   \n",
    "        #print(curr_state)\n",
    "        curr_action = epsilon_greedy(curr_state, episode)\n",
    "        next_state, reward, terminal_flag = env.step(curr_state, curr_action)\n",
    "        \n",
    "        add_to_dict(next_state)\n",
    "        q_next_state = Q_state(next_state)\n",
    "        q_curr_state = Q_state(curr_state)\n",
    "            \n",
    "        # UPDATE RULE\n",
    "        if not terminal_flag :        \n",
    "            max_next = max(Q_dict[q_next_state],key=Q_dict[q_next_state].get)   #this gets the action corresponding to max q-value of next state\n",
    "            Q_dict[q_curr_state][curr_action] += LR * ((reward + (GAMMA*(Q_dict[q_next_state][max_next]))) - Q_dict[q_curr_state][curr_action] )     \n",
    "        else:\n",
    "            Q_dict[q_curr_state][curr_action] += LR * (reward  - Q_dict[q_curr_state][curr_action] ) \n",
    "        \n",
    "        curr_state = next_state       #state(t) became state(t-1)\n",
    "        total_reward += reward\n",
    "        time_step += 1\n",
    "     \n",
    "        \n",
    "    #TRACKING Q-VALUES\n",
    "    if (episode == threshold-1):      \n",
    "        initialise_tracking_states()\n",
    "      \n",
    "    if ((episode+1) % threshold) == 0: \n",
    "        save_tracking_states()\n",
    "        save_obj(States_track,'States_tracked')   \n",
    "    \n",
    "    #SAVING POLICY\n",
    "    if ((episode+1)% policy_threshold ) == 0:  \n",
    "        save_obj(Q_dict,'Policy')    \n",
    "    \n",
    "elapsed_time = time.time() - start_time\n",
    "save_obj(States_track,'States_tracked')   \n",
    "save_obj(Q_dict,'Policy')"
   ]
  },
  {
   "cell_type": "code",
   "execution_count": 14,
   "metadata": {},
   "outputs": [
    {
     "data": {
      "text/plain": [
       "4575.914304018021"
      ]
     },
     "execution_count": 14,
     "metadata": {},
     "output_type": "execute_result"
    }
   ],
   "source": [
    "elapsed_time"
   ]
  },
  {
   "cell_type": "code",
   "execution_count": 15,
   "metadata": {},
   "outputs": [
    {
     "name": "stderr",
     "output_type": "stream",
     "text": [
      "IOPub data rate exceeded.\n",
      "The notebook server will temporarily stop sending output\n",
      "to the client in order to avoid crashing it.\n",
      "To change this limit, set the config variable\n",
      "`--NotebookApp.iopub_data_rate_limit`.\n",
      "\n",
      "Current values:\n",
      "NotebookApp.iopub_data_rate_limit=1000000.0 (bytes/sec)\n",
      "NotebookApp.rate_limit_window=3.0 (secs)\n",
      "\n"
     ]
    }
   ],
   "source": [
    "print([states for states in Q_dict.keys()])"
   ]
  },
  {
   "cell_type": "markdown",
   "metadata": {
    "colab_type": "text",
    "id": "t6eMFbb8Ggg2"
   },
   "source": [
    "#### Check the Q-dictionary"
   ]
  },
  {
   "cell_type": "code",
   "execution_count": 50,
   "metadata": {},
   "outputs": [],
   "source": [
    "Q_dict1 = {}\n",
    "for state in Q_dict.keys():\n",
    "    for action in Q_dict[state].keys():\n",
    "        if Q_dict[state][action]!=0:\n",
    "            States_track[state][action] = Q_dict[state][action]"
   ]
  },
  {
   "cell_type": "code",
   "execution_count": 78,
   "metadata": {},
   "outputs": [],
   "source": [
    "save_obj(States_track,'States_tracked')"
   ]
  },
  {
   "cell_type": "code",
   "execution_count": 22,
   "metadata": {
    "colab": {},
    "colab_type": "code",
    "id": "F1tnDJWkGgg9"
   },
   "outputs": [
    {
     "data": {
      "text/plain": [
       "1345993"
      ]
     },
     "execution_count": 22,
     "metadata": {},
     "output_type": "execute_result"
    }
   ],
   "source": [
    "len(Q_dict)"
   ]
  },
  {
   "cell_type": "code",
   "execution_count": 77,
   "metadata": {
    "colab": {},
    "colab_type": "code",
    "id": "cFgUqfcQGghB"
   },
   "outputs": [
    {
     "data": {
      "text/plain": [
       "{(0, 1): 0,\n",
       " (0, 3): 0,\n",
       " (0, 5): 0,\n",
       " (0, 7): 0,\n",
       " (0, 9): 0,\n",
       " (1, 1): 0,\n",
       " (1, 3): 0,\n",
       " (1, 5): 0,\n",
       " (1, 7): 0,\n",
       " (1, 9): 0,\n",
       " (2, 1): 0,\n",
       " (2, 3): 0,\n",
       " (2, 5): 0,\n",
       " (2, 7): 0,\n",
       " (2, 9): 0,\n",
       " (3, 1): 0,\n",
       " (3, 3): 0,\n",
       " (3, 5): 0,\n",
       " (3, 7): 0,\n",
       " (3, 9): 0,\n",
       " (4, 1): 0,\n",
       " (4, 3): 0,\n",
       " (4, 5): 0,\n",
       " (4, 7): 0,\n",
       " (4, 9): 0,\n",
       " (5, 1): 0,\n",
       " (5, 3): 0,\n",
       " (5, 5): 0,\n",
       " (5, 7): 0,\n",
       " (5, 9): 0,\n",
       " (6, 1): 0,\n",
       " (6, 3): 0,\n",
       " (6, 5): 0,\n",
       " (6, 7): 0,\n",
       " (6, 9): 0,\n",
       " (7, 1): 0,\n",
       " (7, 3): 0,\n",
       " (7, 5): 0,\n",
       " (7, 7): 0,\n",
       " (7, 9): 0,\n",
       " (8, 1): 0,\n",
       " (8, 3): 0,\n",
       " (8, 5): 0,\n",
       " (8, 7): 0,\n",
       " (8, 9): 0}"
      ]
     },
     "execution_count": 77,
     "metadata": {},
     "output_type": "execute_result"
    }
   ],
   "source": [
    "# try checking for one of the states - that which action your agent thinks is the best  -----This will not be evaluated\n",
    "Q_dict['x-x-x-x-x-x-x-x-x']"
   ]
  },
  {
   "cell_type": "markdown",
   "metadata": {
    "colab_type": "text",
    "id": "KGPZEQDFGghG"
   },
   "source": [
    "#### Check the states tracked for Q-values convergence\n",
    "(non-evaluative)"
   ]
  },
  {
   "cell_type": "code",
   "execution_count": 73,
   "metadata": {
    "colab": {},
    "colab_type": "code",
    "id": "pVQInsg7GghL"
   },
   "outputs": [
    {
     "data": {
      "image/png": "[encoded data removed]",
      "text/plain": [
       "<Figure size 2160x720 with 3 Axes>"
      ]
     },
     "metadata": {
      "needs_background": "light"
     },
     "output_type": "display_data"
    }
   ],
   "source": [
    "# Write the code for plotting the graphs for state-action pairs tracked\n",
    "xaxis1 = np.asarray(range(0, len(States_track['5-9-2-x-4-x-x-x-x'])))\n",
    "xaxis2 = np.asarray(range(0, len(States_track['x-3-8-7-x-x-x-6-x'])))\n",
    "xaxis3 = np.asarray(range(0, len(States_track['1-9-3-6-2-8-4-x-7'])))\n",
    "\n",
    "plt.figure(0, figsize=(30,10))\n",
    "plt.subplot(141)\n",
    "plt.title('state=(5-9-2-x-4-x-x-x-x)')\n",
    "plt.xlabel('No OF Values') \n",
    "plt.ylabel('Reward')\n",
    "plt.plot(xaxis1,np.asarray(list(States_track['5-9-2-x-4-x-x-x-x'].values())))\n",
    "\n",
    "plt.subplot(142)\n",
    "plt.title('state=(x-3-8-7-x-x-x-6-x)')\n",
    "plt.xlabel('No OF Values') \n",
    "plt.ylabel('Reward')\n",
    "plt.plot(xaxis2,np.asarray(list(States_track['x-3-8-7-x-x-x-6-x'].values())))\n",
    "\n",
    "plt.subplot(143)\n",
    "plt.title('state=(1-9-3-6-2-8-4-x-7)')\n",
    "plt.xlabel('No OF Values') \n",
    "plt.ylabel('Reward')\n",
    "plt.plot(xaxis3,np.asarray(list(States_track['1-9-3-6-2-8-4-x-7'].values())))\n",
    "\n",
    "plt.show()"
   ]
  },
  {
   "cell_type": "markdown",
   "metadata": {
    "colab_type": "text",
    "id": "b2Opp8_NITkC"
   },
   "source": [
    "### Epsilon - decay check"
   ]
  },
  {
   "cell_type": "code",
   "execution_count": null,
   "metadata": {
    "colab": {},
    "colab_type": "code",
    "id": "gQ_D_JsuGghR"
   },
   "outputs": [],
   "source": [
    "max_epsilon = 1.0\n",
    "min_epsilon = 0.001\n",
    "time = np.arange(0,5000000)\n",
    "epsilon = []\n",
    "for i in range(0,5000000):\n",
    "    epsilon.append(min_epsilon + (max_epsilon - min_epsilon) * np.exp(-0.000001*i))"
   ]
  },
  {
   "cell_type": "code",
   "execution_count": null,
   "metadata": {
    "colab": {
     "base_uri": "https://localhost:8080/",
     "height": 347
    },
    "colab_type": "code",
    "id": "J7c2xADQGghV",
    "outputId": "cb60fce3-570b-45fb-bd83-abde3d13b273"
   },
   "outputs": [],
   "source": [
    "plt.plot(time, epsilon)\n",
    "plt.show()"
   ]
  },
  {
   "cell_type": "code",
   "execution_count": null,
   "metadata": {},
   "outputs": [],
   "source": []
  }
 ],
 "metadata": {
  "colab": {
   "collapsed_sections": [],
   "name": "TicTacToe_Agent.ipynb",
   "provenance": [],
   "version": "0.3.2"
  },
  "kernelspec": {
   "display_name": "Python 3",
   "language": "python",
   "name": "python3"
  },
  "language_info": {
   "codemirror_mode": {
    "name": "ipython",
    "version": 3
   },
   "file_extension": ".py",
   "mimetype": "text/x-python",
   "name": "python",
   "nbconvert_exporter": "python",
   "pygments_lexer": "ipython3",
   "version": "3.6.5"
  }
 },
 "nbformat": 4,
 "nbformat_minor": 1
}
